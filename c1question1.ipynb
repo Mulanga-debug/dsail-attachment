{
 "cells": [
  {
   "cell_type": "code",
   "execution_count": 2,
   "metadata": {},
   "outputs": [],
   "source": [
    "from PIL import Image\n",
    "import numpy as np\n",
    "\n",
    "def gotham_filter(image_path):\n",
    "\n",
    "    image = Image.open(image_path)\n",
    "    r, g, b = image.split()\n",
    "\n",
    "    r = np.array(r)\n",
    "    r = np.interp(r, [0, 64, 128, 256], [0, 16, 192, 240])\n",
    "    r = Image.fromarray(np.uint8(r))\n",
    "    g = g.point(lambda i: i * 0.7)\n",
    "    b = b.point(lambda i: i * 1.3)\n",
    "\n",
    "    filtered_image = Image.merge('RGB', (r, g, b))\n",
    "\n",
    "    enhanced_image = filtered_image.point(lambda i: i * 1.2)\n",
    "\n",
    "    return enhanced_image\n",
    "\n",
    "input_image_path = 'D:\\\\MULANGA\\\\myproject\\\\photos\\\\photo3.jpg'\n",
    "filtered_image = gotham_filter(input_image_path)\n",
    "\n",
    "filtered_image.show()"
   ]
  },
  {
   "cell_type": "code",
   "execution_count": null,
   "metadata": {},
   "outputs": [],
   "source": []
  }
 ],
 "metadata": {
  "kernelspec": {
   "display_name": "images",
   "language": "python",
   "name": "python3"
  },
  "language_info": {
   "codemirror_mode": {
    "name": "ipython",
    "version": 3
   },
   "file_extension": ".py",
   "mimetype": "text/x-python",
   "name": "python",
   "nbconvert_exporter": "python",
   "pygments_lexer": "ipython3",
   "version": "3.9.16"
  },
  "orig_nbformat": 4
 },
 "nbformat": 4,
 "nbformat_minor": 2
}
